{
 "cells": [
  {
   "cell_type": "code",
   "execution_count": 18,
   "metadata": {
    "collapsed": false
   },
   "outputs": [
    {
     "name": "stdout",
     "output_type": "stream",
     "text": [
      "丧服 第 十一 丧服 ， 斩衰 裳 ， 苴绖 杖 ， 绞带 ， 冠 绳缨 ， 菅屦 者 。 诸侯 为 天子 ， 君 ， 父 为 长子 ， 为人后 者 。 妻 为 夫 ， 妾 为 君 ， 女子子 在室 为 父 ， 布总 ， 箭笄 ， 髽 ， 衰 ， 三 年 。 子 嫁 ， 反 在 父 之 室 ， 为 父 三 年 。 公士 、 大夫 之 众臣 ， 为 其 君 布 带 、 绳屦 。 疏衰 裳 齐 ， 牡麻 绖 ， 冠 布缨 ， 削杖 ， 布 带 ， 疏屦 三 年 者 ， 父 卒 则 为 母 ， 继母 如 母 ， 慈母 如 母 ， 母 为 长子 。 疏衰 裳 齐 ， 牡麻 绖 ， 冠 布缨 ， 削杖 ， 布 带 ， 疏屦 ， 期 者 ， 父 在 为 母 ， 妻 ， 出妻 之子 为 母 。 出妻 之子 为 父 后 者 则 为 出母 无服 。 父 卒 ， 继母 嫁 ， 従 ， 为 之 服 ， 报 。 不 杖 ， 麻屦 者 。 祖父母 ， 世父 母 ， 叔父 母 ； 大夫 之适 子 为 妻 ， 昆弟 ； 为 众子 ， 昆弟 之子 ； 大夫 之 庶子 为 适 昆弟 适孙 。 为人后 者 ， 为 其 父母 ， 报 。 女子子 适人 者 为 其 父母 、 昆弟 之 为 父 后 者 ， 继父 同居 者 ， 为 夫 之 君 。 姑 、 姊妹 、 女子子 适人 无主 者 ， 姑 、 姊妹 报 。 为 君 之 父 、 母 、 妻 、 长子 、 祖父母 。 妾 为 女君 。 妇 为 舅姑 ， 夫 之 昆弟 之子 。 公 妾 、 大夫 之 妾 为 其 子 。 女子子 为 祖父母 。 大夫 之子 为 世父 母 、 叔父 母 、 子 、 昆弟 、 昆弟 之子 ， 姑 、 姊妹 、 女子子 无主 者 ， 为 大夫 命妇 者 ， 唯 子 不报 。 大夫 为 祖父母 、 适孙 为 士 者 。 公 妾 以及 士 妾 为 其 父母 。 疏衰 裳 齐 ， 牡麻 绖 ， 无 受 者 。 寄公 为 所 寓 ， 丈夫 、 妇人 为 宗子 、 宗子 之 母 、 妻 ， 为 旧 君 、 君 之 母 、 妻 ， 庶人 为国 君 ； 大夫 在 外 ， 其 妻 、 长子 为 旧国 君 ； 继父 不同 居 者 ， 曾祖 父母 ， 大夫 为 宗子 ， 旧 君 。 曾祖 父母 为 士 者 如 众人 ， 女子子 嫁 者 、 未 嫁 者 为 曾祖 父母 。 大功 布衰 裳 ， 牡麻 绖 ， 无 受 者 ： 子 、 女子子 之 长殇 、 中殇 ， 叔父 之 长殇 、 中殇 ， 姑 、 姊妹 之 长殇 、 中殇 ， 昆弟 之 长殇 、 中殇 ， 夫 之 昆弟 之子 、 女子子 之 长殇 、 中殇 ， 适孙 之 长殇 、 中殇 ， 大夫 之 庶子 为 适 昆弟 子 之 长殇 、 中殇 ， 公子 之 长殇 、 中殇 ， 大夫 为 适子 之 长殇 、 中殇 。 其 长殇 皆 九 月 ， 缨 绖 ； 其中 殇 ， 七月 ， 不 缨 绖 。 大功 布衰 裳 ， 牡麻 绖 缨 ， 布 带 ， 三 月 。 受 以 小功 衰 ， 即 葛 ， 九 月 者 ： 姑 、 姊妹 、 女子子 适人 者 ， 従 父 昆弟 ； 为人后 者 为 其 昆弟 ， 庶孙 ； 适妇 ， 女子子 适人 者 为 众 昆弟 ； 侄 丈夫 妇人 ， 报 。 夫 之 祖父母 、 世父 母 、 叔父 母 ， 大夫 为 世父 母 、 叔父 母 、 子 、 昆弟 、 昆弟 之子 为 士 者 ； 公 之 庶 昆弟 、 大夫 之 庶子 为 母 、 妻 、 昆弟 ， 皆 为 其 従 父 昆弟 之 为 大夫 者 ； 为 夫 之 昆弟 之 妇人 子 适人 者 ； 大夫 之 妾 为 君 之 庶子 ； 女子子 嫁 者 、 未 嫁 者 ， 为 世父 母 、 叔父 母 、 姑 、 姊妹 ， 大夫 、 大夫 之 妻 、 大夫 之子 、 公 之 昆弟 为 姑 、 姊妹 、 女子子 嫁 于 大夫 者 ， 君 为 姑 、 姊妹 、 女子子 嫁 于 国君 者 。 繐衰 裳 ， 牡麻 绖 ， 既 葬 除 之者 。 诸侯 之 大夫 为 天子 。 小功 布衰 裳 ， 澡 麻带 绖 ， 五 月 者 。 叔父 之 下殇 ， 适孙 之 下殇 ， 昆弟 之 下殇 ， 大夫 庶子 为 适 昆弟 之 下殇 ， 为 姑 、 姊妹 、 女子子 之 下殇 ， 为人后 者 为 其 昆弟 、 従 父 昆弟 之 长殇 ， 为 夫 之 叔父 之 长殇 ； 昆弟 之子 、 女子子 、 夫 之 昆弟 之子 、 女子子 之 下殇 ； 为 侄 、 庶孙 丈夫 妇人 之 长殇 ； 大夫 、 公 之 昆弟 、 大夫 之子 ， 为 其 昆弟 、 庶子 、 姑 、 姊妹 、 女子子 之 长殇 ； 大夫 之 妾 为 庶子 之 长殇 。 小功 布衰 裳 ， 牡麻 绖 ， 即 葛 ， 五 月 者 。 従 祖祖 父母 ， 従 祖父母 ， 报 ； 従 祖 昆弟 ， 従 父 姊妹 、 孙 适人 者 ， 为人后 者 为 其 姊妹 适人 者 ， 为 外祖 父母 ； 従 母 ， 丈夫 妇人 报 ； 夫 之 姑 、 姊妹 ， 娣 、 姒妇 ， 报 ； 大夫 、 大夫 之子 、 公 之 昆弟 为 従 父 昆弟 ， 庶孙 ， 姑 、 姊妹 、 女子子 适士 者 ； 大夫 之 妾 为 庶子 适人 者 ； 庶妇 ； 君 之 父母 、 従 母 ； 君子 子 为 庶母 慈 己 者 。 缌麻 ， 三 月 者 。 族曾祖父 母 ， 族祖父母 ， 族父母 ， 族昆弟 ； 庶孙 之 妇 ， 庶孙 之 中殇 ； 従 祖姑 、 姊妹 适人 者 ， 报 ； 従 祖父 、 従 祖 昆弟 之 长殇 ； 外孙 ， 従 父 昆弟 侄 之 下殇 ， 夫 之 叔父 之 中殇 、 下殇 ； 従 母 之 长殇 ， 报 ； 庶子 为 父 后 者 ， 为 其 母 ； 士 为 庶母 ； 贵臣 、 贵妾 ； 乳母 ， 従 祖 昆弟 之子 ， 曾孙 ， 父 之 姑 ， 従 母昆 弟 ， 甥 ， 婿 ， 妻 之 父母 ， 姑 之子 ， 舅 ， 舅 之子 ； 夫 之 姑姊妹 之 长殇 ； 夫 之 诸 祖父母 ， 报 ； 君母 之 昆弟 ； 従 父 昆弟 之子 长殇 ， 昆弟 之 孙 之 长殇 ， 为 夫 之 従 父 昆弟 之 妻 。 记 。 公子 为 其 母 ， 练冠 ， 麻 ， 麻衣 縓缘 ； 为 其 妻 ， 縓冠 ， 葛 绖 ， 带 ， 麻衣 縓缘 。 皆既 葬 除 之 。 大夫 、 公 之 昆弟 ， 大夫 之子 ， 于 兄弟 降 一等 。 为人后 者 ， 于 兄弟 降 一等 ， 报 ； 于 所为 后 之子 、 兄弟 ， 若 子 。 兄弟 皆 在 他 邦 ， 加 一等 。 不及 知 公母 ， 与 兄弟 居 ， 加 一等 。 朋友 皆 在 他 邦 ， 袒免 ， 归 则 已 。 朋友 ， 麻 。 君 之 所为 兄弟 服 ， 室老 降 一等 。 夫 之 所为 兄弟 服 ， 妻 降 一等 。 庶子 为 后 者 ， 为 其 外祖 父母 、 従 母 、 舅 ， 无服 。 不为 后 ， 如 邦人 。 宗子 孤 为 殇 ， 大功 衰 ， 小功 衰 ， 皆 三 月 。 亲 ， 则 月 算 如 邦人 。 改葬 ， 缌 。 童子 ， 唯 当室 缌 。 凡 妾 为 私兄弟 ， 如 邦人 。 大夫 吊 于 命妇 ， 锡 衰 。 命妇 吊 于 大夫 ， 亦 锡 衰 。 女子子 适人 者 为 其 父母 ， 妇 为 舅姑 ， 恶笄 有 首 以 髽 。 卒哭 ， 子 折笄 首 以 笄 ， 布总 。 妾 为 女君 、 君 之 长子 ， 恶笄 有 首 ， 布总 。 凡 衰 ， 外 削 幅 ； 裳 ， 内 削 幅 ， 幅 三 衤 包 。 若 齐 ， 裳 内 ， 衰 外 。 负 ， 广 出 于 适 寸 。 适 ， 博 四 寸 ， 出 于 衰 。 衰 ， 长 六 寸 ， 博 四 寸 。 衣带 ， 下 尺 。 衽 ， 二 尺 有 五 寸 。 袂 ， 属 幅 。 衣 ， 二 尺 有 二 寸 。 祛 ， 尺二 寸 。 衰 三 升 ， 三 升 有 半 。 其 冠 六 升 。 以 其 冠 为 受 ， 受 冠 七 升 。 齐衰 四 升 ， 其 冠 七 升 。 以 其 冠 为 受 ， 受 冠 八 升 。 繐衰 四 升 有 半 ， 其 冠 八 升 。 大功 八 升 ， 若 九升 。 小功 十升 ， 若 十一 升 。\n"
     ]
    }
   ],
   "source": [
    "import os\n",
    "\n",
    "dictionary = '/home/hongliang/inpho/wordsegmentation/ancient words.dic'\n",
    "f = open('13classes/仪礼/丧服第十一.txt')\n",
    "data = f.read()\n",
    "\n",
    "def reset_mmseg():\n",
    "    import importlib\n",
    "\n",
    "    global TOKENIZER\n",
    "    global mmseg\n",
    "    TOKENIZER = None\n",
    "    mmseg = importlib.import_module('mmseg')\n",
    "reset_mmseg()\n",
    "\n",
    "\n",
    "mmseg.Dictionary.load_words(dictionary)\n",
    "\n",
    "\n",
    "tokenizer = mmseg.Algorithm(data)\n",
    "tokens = []\n",
    "for token in tokenizer:\n",
    "    token = token.text.decode('utf-8-sig', errors='replace').replace(u'\\x00', '')\n",
    "    if token:\n",
    "        tokens.append(token)\n",
    "for a in tokens:\n",
    "    print a,"
   ]
  },
  {
   "cell_type": "code",
   "execution_count": 19,
   "metadata": {
    "collapsed": false
   },
   "outputs": [],
   "source": [
    "dictionary = 'ouyang_dictionary.dic'\n",
    "f = open('13classes/仪礼/丧服第十一.txt')\n",
    "data = f.read()\n",
    "\n",
    "\n",
    "def printlist(temp):\n",
    "    example = temp\n",
    "    case_list_righ = str(example).replace('u\\'','\\'')\n",
    "    print case_list_righ.decode(\"unicode-escape\")\n",
    "def reset_mmseg():\n",
    "    import importlib\n",
    "\n",
    "    global TOKENIZER\n",
    "    global mmseg\n",
    "    TOKENIZER = None\n",
    "    mmseg = importlib.import_module('mmseg')\n",
    "reset_mmseg()\n",
    "mmseg.Dictionary.load_words(dictionary)\n",
    "\n",
    "\n",
    "tokenizer = mmseg.Algorithm(data)\n",
    "tokens1 = []\n",
    "for token in tokenizer:\n",
    "    token = token.text.decode('utf-8-sig', errors='replace').replace(u'\\x00', '')\n",
    "    if token:\n",
    "        tokens1.append(token)\n"
   ]
  },
  {
   "cell_type": "code",
   "execution_count": 20,
   "metadata": {
    "collapsed": false
   },
   "outputs": [],
   "source": [
    "for a,b in zip(tokens,tokens1):\n",
    "    if a!=b:\n",
    "        print a,b"
   ]
  },
  {
   "cell_type": "code",
   "execution_count": null,
   "metadata": {
    "collapsed": true
   },
   "outputs": [],
   "source": []
  },
  {
   "cell_type": "code",
   "execution_count": null,
   "metadata": {
    "collapsed": true
   },
   "outputs": [],
   "source": []
  }
 ],
 "metadata": {
  "anaconda-cloud": {},
  "kernelspec": {
   "display_name": "Python [conda root]",
   "language": "python",
   "name": "conda-root-py"
  },
  "language_info": {
   "codemirror_mode": {
    "name": "ipython",
    "version": 2
   },
   "file_extension": ".py",
   "mimetype": "text/x-python",
   "name": "python",
   "nbconvert_exporter": "python",
   "pygments_lexer": "ipython2",
   "version": "2.7.12"
  }
 },
 "nbformat": 4,
 "nbformat_minor": 1
}
